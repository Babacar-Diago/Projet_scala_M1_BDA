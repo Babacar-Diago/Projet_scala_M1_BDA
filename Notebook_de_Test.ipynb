{
 "cells": [
  {
   "cell_type": "markdown",
   "metadata": {},
   "source": [
    "Professeur(idProfesseur, nomProfesseur, prenomPro, grade)"
   ]
  },
  {
   "cell_type": "code",
   "execution_count": 96,
   "metadata": {},
   "outputs": [
    {
     "data": {
      "text/plain": [
       "defined \u001b[32mclass\u001b[39m \u001b[36mProfesseur\u001b[39m"
      ]
     },
     "execution_count": 96,
     "metadata": {},
     "output_type": "execute_result"
    }
   ],
   "source": [
    "class Professeur {\n",
    "  private var _idProfesseur: String= \" \"\n",
    "  private var _nomProfesseur: String= \" \"\n",
    "  private var _prenomPro: String= \" \"\n",
    "  private var _grade: String= \" \"\n",
    "  \n",
    "  // getteur \n",
    "  def idProfesseur = _idProfesseur\n",
    "  // setteur\n",
    "  def idProfesseur_= (newValue: String): Unit = {\n",
    "    _idProfesseur = newValue\n",
    "  }\n",
    "\n",
    "  // getteur \n",
    "  def nomProfesseur = _nomProfesseur\n",
    "  // setteur\n",
    "  def nomProfesseur_= (newValue: String): Unit = {\n",
    "    _nomProfesseur = newValue\n",
    "  }\n",
    "\n",
    "  // getteur \n",
    "  def prenomPro = _prenomPro\n",
    "  // setteur\n",
    "  def prenomPro_= (newValue: String): Unit = {\n",
    "    _prenomPro = newValue\n",
    "  }\n",
    "\n",
    "    // getteur \n",
    "  def grade = _grade\n",
    "  // setteur\n",
    "  def grade_= (newValue: String): Unit = {\n",
    "    _grade = newValue\n",
    "  }\n",
    "  \n",
    "  override def toString: String =\n",
    "    s\"($idProfesseur, $nomProfesseur $prenomPro, $grade)\"\n",
    "}\n"
   ]
  },
  {
   "cell_type": "code",
   "execution_count": 97,
   "metadata": {},
   "outputs": [
    {
     "data": {
      "text/plain": [
       "\u001b[36mp\u001b[39m: \u001b[32mProfesseur\u001b[39m = (bd5276, DIAGO Babacar, Prof Titu)"
      ]
     },
     "execution_count": 97,
     "metadata": {},
     "output_type": "execute_result"
    }
   ],
   "source": [
    "val p=new Professeur\n",
    "\n",
    "p.idProfesseur=\"bd5276\"\n",
    "p.nomProfesseur=\"DIAGO\"\n",
    "p.prenomPro=\"Babacar\"\n",
    "p.grade=\"Prof Titu\""
   ]
  },
  {
   "cell_type": "code",
   "execution_count": 98,
   "metadata": {},
   "outputs": [
    {
     "data": {
      "text/plain": [
       "\u001b[36mp2\u001b[39m: \u001b[32mProfesseur\u001b[39m = (bd5270, BASSENE Khalifa Ababacar, Prof Titu)"
      ]
     },
     "execution_count": 98,
     "metadata": {},
     "output_type": "execute_result"
    }
   ],
   "source": [
    "val p2=new Professeur\n",
    "\n",
    "p2.idProfesseur=\"bd5270\"\n",
    "p2.nomProfesseur=\"BASSENE\"\n",
    "p2.prenomPro=\"Khalifa Ababacar\"\n",
    "p2.grade=\"Prof Titu\""
   ]
  },
  {
   "cell_type": "code",
   "execution_count": 99,
   "metadata": {},
   "outputs": [
    {
     "data": {
      "text/plain": [
       "\u001b[36mp3\u001b[39m: \u001b[32mProfesseur\u001b[39m = (bd5271, DIOP Aliou, Vacatere)"
      ]
     },
     "execution_count": 99,
     "metadata": {},
     "output_type": "execute_result"
    }
   ],
   "source": [
    "val p3=new Professeur\n",
    "\n",
    "p3.idProfesseur=\"bd5271\"\n",
    "p3.nomProfesseur=\"DIOP\"\n",
    "p3.prenomPro=\"Aliou\"\n",
    "p3.grade=\"Vacatere\""
   ]
  },
  {
   "cell_type": "code",
   "execution_count": 100,
   "metadata": {},
   "outputs": [
    {
     "data": {
      "text/plain": [
       "\u001b[36madd\u001b[39m: \u001b[32mProfesseur\u001b[39m => \u001b[32mList\u001b[39m[\u001b[32mProfesseur\u001b[39m] = ammonite.$sess.cmd99$Helper$$Lambda$2766/0x0000000840bad040@162b9806"
      ]
     },
     "execution_count": 100,
     "metadata": {},
     "output_type": "execute_result"
    }
   ],
   "source": [
    "val add = (x: Professeur) => x::List()"
   ]
  },
  {
   "cell_type": "code",
   "execution_count": 101,
   "metadata": {},
   "outputs": [
    {
     "data": {
      "text/plain": [
       "\u001b[36mres100\u001b[39m: \u001b[32mList\u001b[39m[\u001b[32mProfesseur\u001b[39m] = \u001b[33mList\u001b[39m((bd5276, DIAGO Babacar, Prof Titu))"
      ]
     },
     "execution_count": 101,
     "metadata": {},
     "output_type": "execute_result"
    }
   ],
   "source": [
    "add(p)"
   ]
  },
  {
   "cell_type": "code",
   "execution_count": 102,
   "metadata": {},
   "outputs": [
    {
     "data": {
      "text/plain": [
       "\u001b[36mres101\u001b[39m: \u001b[32mList\u001b[39m[\u001b[32mProfesseur\u001b[39m] = \u001b[33mList\u001b[39m(\n",
       "  (bd5270, BASSENE Khalifa Ababacar, Prof Titu),\n",
       "  (bd5271, DIOP Aliou, Vacatere),\n",
       "  (bd5276, DIAGO Babacar, Prof Titu)\n",
       ")"
      ]
     },
     "execution_count": 102,
     "metadata": {},
     "output_type": "execute_result"
    }
   ],
   "source": [
    "p2::p3::add(p)"
   ]
  },
  {
   "cell_type": "markdown",
   "metadata": {},
   "source": [
    "Etudiant(idEtudiant, nomEtudiant, prenomEtudiant, niveauEtude)"
   ]
  },
  {
   "cell_type": "code",
   "execution_count": 103,
   "metadata": {},
   "outputs": [
    {
     "data": {
      "text/plain": [
       "defined \u001b[32mclass\u001b[39m \u001b[36mEtudiant\u001b[39m"
      ]
     },
     "execution_count": 103,
     "metadata": {},
     "output_type": "execute_result"
    }
   ],
   "source": [
    "class Etudiant {\n",
    "  private var _idEtudiant: String= \" \"\n",
    "  private var _nomEtudiant: String= \" \"\n",
    "  private var _prenomEtudiant: String= \" \"\n",
    "  private var _niveauEtude: String= \" \"\n",
    "  \n",
    "  // getteur \n",
    "  def idEtudiant = _idEtudiant\n",
    "  // setteur\n",
    "  def idEtudiant_= (newValue: String): Unit = {\n",
    "    _idEtudiant = newValue\n",
    "  }\n",
    "\n",
    "  // getteur \n",
    "  def nomEtudiant = _nomEtudiant\n",
    "  // setteur\n",
    "  def nomEtudiant_= (newValue: String): Unit = {\n",
    "    _nomEtudiant = newValue\n",
    "  }\n",
    "\n",
    "  // getteur \n",
    "  def prenomEtudiant = _prenomEtudiant\n",
    "  // setteur\n",
    "  def prenomEtudiant_= (newValue: String): Unit = {\n",
    "    _prenomEtudiant = newValue\n",
    "  }\n",
    "\n",
    "    // getteur \n",
    "  def niveauEtude = _niveauEtude\n",
    "  // setteur\n",
    "  def niveauEtude_= (newValue: String): Unit = {\n",
    "    _niveauEtude = newValue\n",
    "  }\n",
    "\n",
    "  override def toString: String =\n",
    "    s\"($idEtudiant, $nomEtudiant $prenomEtudiant, $niveauEtude)\"\n",
    "}"
   ]
  },
  {
   "cell_type": "markdown",
   "metadata": {},
   "source": [
    "Salle(numeroSalle, libelleSalle)"
   ]
  },
  {
   "cell_type": "code",
   "execution_count": 104,
   "metadata": {},
   "outputs": [
    {
     "data": {
      "text/plain": [
       "defined \u001b[32mclass\u001b[39m \u001b[36mSalle\u001b[39m"
      ]
     },
     "execution_count": 104,
     "metadata": {},
     "output_type": "execute_result"
    }
   ],
   "source": [
    "class Salle {\n",
    "  private var _numeroSalle: String= \" \"\n",
    "  private var _libelleSalle: String= \" \"\n",
    "  \n",
    "  // getteur \n",
    "  def numeroSalle = _numeroSalle\n",
    "  // setteur\n",
    "  def numeroSalle_= (newValue: String): Unit = {\n",
    "    _numeroSalle = newValue\n",
    "  }\n",
    "\n",
    "\n",
    "  // getteur \n",
    "  def libelleSalle = _libelleSalle\n",
    "  // setteur\n",
    "  def libelleSalle_= (newValue: String): Unit = {\n",
    "    _libelleSalle = newValue\n",
    "  }\n",
    "\n",
    "  override def toString: String =\n",
    "    s\"($numeroSalle, $libelleSalle)\"\n",
    "}"
   ]
  },
  {
   "cell_type": "markdown",
   "metadata": {},
   "source": [
    "Matiere(codeMatiere, libelleMatiere, coeffMatiere) "
   ]
  },
  {
   "cell_type": "code",
   "execution_count": 105,
   "metadata": {},
   "outputs": [
    {
     "data": {
      "text/plain": [
       "defined \u001b[32mclass\u001b[39m \u001b[36mMatiere\u001b[39m"
      ]
     },
     "execution_count": 105,
     "metadata": {},
     "output_type": "execute_result"
    }
   ],
   "source": [
    "class Matiere {\n",
    "  private var _codeMatiere: String= \" \"\n",
    "  private var _libelleMatiere: String= \" \"\n",
    "  private var _coeffMatiere: String= \" \"\n",
    "  \n",
    "  // getteur \n",
    "  def codeMatiere = _codeMatiere\n",
    "  // setteur\n",
    "  def codeMatiere_= (newValue: String): Unit = {\n",
    "    _codeMatiere = newValue\n",
    "  }\n",
    "\n",
    "  // getteur \n",
    "  def libelleMatiere = _libelleMatiere\n",
    "  // setteur\n",
    "  def libelleMatiere_= (newValue: String): Unit = {\n",
    "    _libelleMatiere = newValue\n",
    "  }\n",
    "\n",
    "  // getteur \n",
    "  def coeffMatiere = _coeffMatiere\n",
    "  // setteur\n",
    "  def coeffMatiere_= (newValue: String): Unit = {\n",
    "    _coeffMatiere = newValue\n",
    "  }\n",
    "\n",
    "  override def toString: String =\n",
    "    s\"($codeMatiere, $libelleMatiere, $coeffMatiere)\"\n",
    "}"
   ]
  }
 ],
 "metadata": {
  "kernelspec": {
   "display_name": "Scala",
   "language": "scala",
   "name": "scala"
  },
  "language_info": {
   "codemirror_mode": "text/x-scala",
   "file_extension": ".sc",
   "mimetype": "text/x-scala",
   "name": "scala",
   "nbconvert_exporter": "script",
   "version": "2.13.3"
  }
 },
 "nbformat": 4,
 "nbformat_minor": 2
}
